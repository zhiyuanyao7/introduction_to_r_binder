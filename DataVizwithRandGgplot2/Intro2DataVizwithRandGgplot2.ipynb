{
 "cells": [
  {
   "cell_type": "markdown",
   "metadata": {},
   "source": [
    "# An Introduction to Data Visualization with R using ggplot2\n",
    "* **Modeled off of Data Science Dojo's \"An Introduction to Data Visualization with R and ggplot2\"**\n",
    "### Contributor : [Research Data Service](https://libraries.uc.edu/research-teaching-support/research-data-services.html), University of Cincinnati Libraries\n",
    "### Contact: askdata@uc.edu\n",
    "\n",
    "# Index\n",
    "\n",
    "* **Introduction to R**\n",
    " * What is R \n",
    " * Where R is used\n",
    " * Ways to run R\n",
    " * Data types\n",
    " * Comments<br><br>\n",
    "\n",
    "* **Hands-on**\n",
    " * Install packages\n",
    " * Load data\n",
    " * Visualize decrete data\n",
    " * Visualize continuous data\n",
    " * Tell a story using a single plot \n",
    " * Explore other visualizations (Stretched goal 1) \n",
    " * Theme and layout (stretched goal 2)<br><br>\n",
    "\n",
    "* **Helpful resources**<br><br>"
   ]
  },
  {
   "cell_type": "markdown",
   "metadata": {},
   "source": [
    "# Introduction to R\n",
    "### What is R\n",
    "* General purpose, high level,\n",
    " * [Interpreted Language](https://guide.freecodecamp.org/computer-science/compiled-versus-interpreted-languages/)\n",
    " * [Object-oriented Language](https://www.freecodecamp.org/news/object-oriented-programming-concepts-21bb035f7260/)\n",
    "\n",
    "* Simple, Portable, Open source & Powerful\n",
    "\n",
    "* Stable version release in early 2000 by **Ross Inhaka and Robert Gentleman**\n",
    "\n",
    "### Ways to run R\n",
    "* General purpose Integrated Development Environment (IDE) - R stuido, etc\n",
    "* Web-based interactive computational environment like Jupyter Notebooks, JupyterLab, Google Colaboratory, etc\n",
    "\n",
    "### [Data types in R](https://www.statmethods.net/input/datatypes.html)\n",
    "* [Scalar (Numeric, Character, Integer, Logical, Complex)](https://study.com/academy/lesson/scalar-data-type-in-r-programming-definition-function.html)\n",
    "* Vector \n",
    "* Matrices\n",
    "* List\n",
    "* Data Frame\n",
    "* Factor\n",
    "* [Tibble](https://tibble.tidyverse.org/)\n",
    "\n",
    "### Comments\n",
    "* Single line commenting symbol is the hash symbol '#'\n",
    "* The interpreter ignores everything after #\n",
    "* Leave comments in your code to make it understandable to other team members and for yourself\n",
    "* hot key to make comment \"Ctrl+/\""
   ]
  },
  {
   "cell_type": "code",
   "execution_count": 1,
   "metadata": {},
   "outputs": [],
   "source": [
    "# This line is ignored"
   ]
  },
  {
   "cell_type": "markdown",
   "metadata": {},
   "source": [
    "* Multi-line - Use the # on each line of a multiline comment\n",
    "* Select mulitples lines and \"Ctrl+/\""
   ]
  },
  {
   "cell_type": "code",
   "execution_count": 2,
   "metadata": {},
   "outputs": [],
   "source": [
    "# This is a multiline comment\n",
    "# This line and the line above are both ignored by the interpreter"
   ]
  },
  {
   "cell_type": "markdown",
   "metadata": {},
   "source": [
    "# Hands-on\n",
    "### Install packages"
   ]
  },
  {
   "cell_type": "code",
   "execution_count": 3,
   "metadata": {},
   "outputs": [
    {
     "name": "stderr",
     "output_type": "stream",
     "text": [
      "Warning message:\n",
      "\"package 'ggplot2' was built under R version 3.6.2\"Warning message:\n",
      "\"package 'titanic' was built under R version 3.6.3\""
     ]
    }
   ],
   "source": [
    "# install.packages(\"ggplot2\")\n",
    "# install.packages(\"titantic\")\n",
    "# install.packages(\"RColorBrewer\")\n",
    "library(ggplot2)\n",
    "library(titanic)\n",
    "library(RColorBrewer)"
   ]
  },
  {
   "cell_type": "markdown",
   "metadata": {},
   "source": [
    "### Load data"
   ]
  },
  {
   "cell_type": "code",
   "execution_count": 4,
   "metadata": {},
   "outputs": [
    {
     "name": "stderr",
     "output_type": "stream",
     "text": [
      "Warning message in file(file, \"rt\"):\n",
      "\"cannot open file '/home/rstudio/DataVizwithRandGgplot2/Data/titanic.csv': No such file or directory\""
     ]
    },
    {
     "ename": "ERROR",
     "evalue": "Error in file(file, \"rt\"): cannot open the connection\n",
     "output_type": "error",
     "traceback": [
      "Error in file(file, \"rt\"): cannot open the connection\nTraceback:\n",
      "1. read.csv(\"/home/rstudio/DataVizwithRandGgplot2/Data/titanic.csv\")",
      "2. read.table(file = file, header = header, sep = sep, quote = quote, \n .     dec = dec, fill = fill, comment.char = comment.char, ...)",
      "3. file(file, \"rt\")"
     ]
    }
   ],
   "source": [
    "### Load the Titanic data set\n",
    "titanic <- read.csv(\"/home/rstudio/DataVizwithRandGgplot2/Data/titanic.csv\")"
   ]
  },
  {
   "cell_type": "code",
   "execution_count": null,
   "metadata": {},
   "outputs": [],
   "source": [
    "head(titanic)"
   ]
  },
  {
   "cell_type": "code",
   "execution_count": null,
   "metadata": {},
   "outputs": [],
   "source": [
    "#or  \n",
    "titanic <- titanic::titanic_train #This data is in a CRAN package called titanic "
   ]
  },
  {
   "cell_type": "code",
   "execution_count": null,
   "metadata": {},
   "outputs": [],
   "source": [
    "#View the data\n",
    "head(titanic)"
   ]
  },
  {
   "cell_type": "code",
   "execution_count": null,
   "metadata": {},
   "outputs": [],
   "source": [
    "#Look at the variable structures\n",
    "str(titanic)"
   ]
  },
  {
   "cell_type": "code",
   "execution_count": null,
   "metadata": {},
   "outputs": [],
   "source": [
    "#Set up factors\n",
    "titanic$Pclass <- as.factor(titanic$Pclass)\n",
    "titanic$Survived <- as.factor(titanic$Survived)\n",
    "titanic$Sex <- as.factor(titanic$Sex)\n",
    "titanic$Embarked <- as.factor(titanic$Embarked)\n",
    "str(titanic)"
   ]
  },
  {
   "cell_type": "code",
   "execution_count": null,
   "metadata": {},
   "outputs": [],
   "source": [
    "#Summarize the data\n",
    "summary(titanic)"
   ]
  },
  {
   "cell_type": "markdown",
   "metadata": {},
   "source": [
    "### Visualize decrete data"
   ]
  },
  {
   "cell_type": "code",
   "execution_count": null,
   "metadata": {},
   "outputs": [],
   "source": [
    "#Ggplot Full Template\n",
    "# ggplot(data = <DATA>) + \n",
    "#   <GEOM_FUNCTION>(mapping = aes(<MAPPINGS>),\n",
    "#                   stat = <STAT>,\n",
    "#                   position = <POSITION>) +\n",
    "#   <COORDINATE_FUNCTION> +\n",
    "#   <FACET_FUNCTION> + \n",
    "#   <THEME_FUNCTION>\n",
    "\n",
    "#DONT FREAK OUT!!!"
   ]
  },
  {
   "cell_type": "markdown",
   "metadata": {},
   "source": [
    "* **Question 1: What was the survial rate or what was the distribution of survived vs. perished?**\n",
    " * Do you remember what type of variable survived is?"
   ]
  },
  {
   "cell_type": "code",
   "execution_count": null,
   "metadata": {},
   "outputs": [],
   "source": [
    "#Plot a bar graph of survival \n",
    "ggplot(data = titanic, aes(x = Survived)) + geom_bar()"
   ]
  },
  {
   "cell_type": "code",
   "execution_count": null,
   "metadata": {},
   "outputs": [],
   "source": [
    "#Sometimes it is difficult to visualize the exact distributions\n",
    "#So we can look up the percentages using prop.table()\n",
    "prop.table(table(titanic$Survived))\n",
    "#~61% perished and ~38% survived"
   ]
  },
  {
   "cell_type": "code",
   "execution_count": null,
   "metadata": {},
   "outputs": [],
   "source": [
    "# Lets clean this graph up a bit\n",
    "#This simple bit of code produced publishable graphics (You just did data visualization!!)\n",
    "ggplot(titanic, aes(Survived)) + geom_bar() +\n",
    "  labs(y = \"Passenger Count\", title = \"Passenger Survival Rate\") + \n",
    "  theme_bw()"
   ]
  },
  {
   "cell_type": "markdown",
   "metadata": {},
   "source": [
    "* **Question 2: What was the survival rate by gender?**\n",
    " * Remember the addage \"women and children first\"? Is this true?"
   ]
  },
  {
   "cell_type": "code",
   "execution_count": null,
   "metadata": {},
   "outputs": [],
   "source": [
    "ggplot(data = titanic, aes(x=Sex, fill = Survived)) + geom_bar()"
   ]
  },
  {
   "cell_type": "code",
   "execution_count": null,
   "metadata": {},
   "outputs": [],
   "source": [
    "ggplot(titanic, aes(Sex, fill =Survived)) + geom_bar() +\n",
    "  labs(x = \"Gender\",y = \"Passenger Count\", title = \"Passenger Survival Rate by Gender\") + \n",
    "  theme_bw()"
   ]
  },
  {
   "cell_type": "markdown",
   "metadata": {},
   "source": [
    "* **Question 3: What was the survival rate by ticket class (proxy for socio-economic status)?**\n",
    " * Reproducibility example: copy and paste gender code and just change x variable and lables"
   ]
  },
  {
   "cell_type": "code",
   "execution_count": null,
   "metadata": {},
   "outputs": [],
   "source": [
    "ggplot(data = titanic, aes(x=Pclass, fill = Survived)) + geom_bar()"
   ]
  },
  {
   "cell_type": "code",
   "execution_count": null,
   "metadata": {},
   "outputs": [],
   "source": [
    "ggplot(titanic, aes(Pclass, fill =Survived)) + geom_bar() +\n",
    "  labs(x = \"Ticket Class\",y = \"Passenger Count\", title = \"Passenger Survival Rate by Ticket Class\") + \n",
    "  theme_bw()"
   ]
  },
  {
   "cell_type": "markdown",
   "metadata": {},
   "source": [
    "* **Question 4: What was the survival rate of gender AND Ticket class?**\n",
    " * Use facet_wrap to examine how multiple variables interact and allow us to dive deeper into the data"
   ]
  },
  {
   "cell_type": "code",
   "execution_count": null,
   "metadata": {},
   "outputs": [],
   "source": [
    "#Look up facet_wrap()\n",
    "?facet_wrap"
   ]
  },
  {
   "cell_type": "code",
   "execution_count": null,
   "metadata": {},
   "outputs": [],
   "source": [
    "ggplot(titanic, aes(Sex, fill =Survived)) + \n",
    "  geom_bar() +\n",
    "  facet_wrap(~Pclass) +\n",
    "  labs(x = \"Gender\",y = \"Passenger Count\", title = \"Passenger Survival Rate by Gender\") + \n",
    "  theme_bw()"
   ]
  },
  {
   "cell_type": "markdown",
   "metadata": {},
   "source": [
    "###### What trends do you see? What gender and ticket classes are most and least likely to survive?"
   ]
  },
  {
   "cell_type": "markdown",
   "metadata": {},
   "source": [
    "### Visualize continuous data\n",
    "* **Question 5: What was the distribution of passenger ages**\n",
    " * Histogram are similiar to bar charts except they use numerical/continuous data"
   ]
  },
  {
   "cell_type": "code",
   "execution_count": null,
   "metadata": {
    "scrolled": true
   },
   "outputs": [],
   "source": [
    "ggplot(titanic, aes(x = Age)) + geom_histogram()"
   ]
  },
  {
   "cell_type": "code",
   "execution_count": null,
   "metadata": {},
   "outputs": [],
   "source": [
    "titanic <- titanic[!is.na(titanic$Age),]"
   ]
  },
  {
   "cell_type": "code",
   "execution_count": null,
   "metadata": {},
   "outputs": [],
   "source": [
    "#You can specify the number of bins\n",
    "ggplot(titanic, aes(x = Age)) + geom_histogram(bins = 10)"
   ]
  },
  {
   "cell_type": "code",
   "execution_count": null,
   "metadata": {},
   "outputs": [],
   "source": [
    "#Or define the bin width (column groupings)\n",
    "ggplot(titanic, aes(x = Age)) + geom_histogram(binwidth = 5)"
   ]
  },
  {
   "cell_type": "code",
   "execution_count": null,
   "metadata": {},
   "outputs": [],
   "source": [
    "#Lets clean this graph up\n",
    "ggplot(titanic, aes(x = Age)) +\n",
    "  geom_histogram(binwidth = 5, color = \"white\") +\n",
    "  labs(x = \"Age (binwidth = 5)\",y = \"Passenger Count\", title = \"Titanic Age Distribution\") + \n",
    "  theme_bw()"
   ]
  },
  {
   "cell_type": "markdown",
   "metadata": {},
   "source": [
    "* **Question 6: What were the survival rate of passengers by age?**"
   ]
  },
  {
   "cell_type": "code",
   "execution_count": null,
   "metadata": {},
   "outputs": [],
   "source": [
    "ggplot(titanic, aes(x = Age, fill = Survived)) +\n",
    "  geom_histogram(binwidth = 5, color = \"white\") +\n",
    "  labs(x = \"Age (binwidth = 5)\",y = \"Passenger Count\", title = \"Survival Rate by age\") + \n",
    "  theme_bw()"
   ]
  },
  {
   "cell_type": "code",
   "execution_count": null,
   "metadata": {},
   "outputs": [],
   "source": [
    "#Alternative: We want to derive basic statistics on survial rates by age?\n",
    "#box-and-whisker\n",
    "ggplot(titanic, aes(x = Survived, y = Age)) +\n",
    "  geom_boxplot() +\n",
    "  labs(x = \"Survived\",y = \"Age\", title = \"Survival Rate by age\") + \n",
    "  theme_bw()\n",
    "#No real discernible pattern between survival and age"
   ]
  },
  {
   "cell_type": "code",
   "execution_count": null,
   "metadata": {},
   "outputs": [],
   "source": [
    "#Need help remembering how to interpt a box-and-whisker graph?\n",
    "?geom_boxplot #Computed variables"
   ]
  },
  {
   "cell_type": "markdown",
   "metadata": {},
   "source": [
    "### Tell a story using a single plot"
   ]
  },
  {
   "cell_type": "code",
   "execution_count": null,
   "metadata": {},
   "outputs": [],
   "source": [
    "ggplot(titanic, aes(x = Age, fill = Survived)) +\n",
    "  geom_density(alpha = 0.5) + #Alpha is transparency control\n",
    "  facet_wrap(Sex ~ Pclass) +\n",
    "  labs(x = \"Age\",y = \"Passengers\", title = \"Titanic Survival Rate by age and gender\") + \n",
    "  theme_bw()"
   ]
  },
  {
   "cell_type": "code",
   "execution_count": null,
   "metadata": {},
   "outputs": [],
   "source": [
    "#Personally I find the interpretation of the density map a litte difficult \n",
    "#So I prefer a histogram\n",
    "ggplot(titanic, aes(x = Age, fill = Survived)) +\n",
    "  geom_histogram(binwidth = 5,color = \"white\") +\n",
    "  facet_wrap(Sex ~ Pclass) +\n",
    "  labs(x = \"Age\",y = \"Passengers\", title = \"Titanic Survival Rate by age and gender\") + \n",
    "  theme_bw()"
   ]
  },
  {
   "cell_type": "markdown",
   "metadata": {},
   "source": [
    "### Explore other visualizations (Stretched goal 1)"
   ]
  },
  {
   "cell_type": "code",
   "execution_count": null,
   "metadata": {},
   "outputs": [],
   "source": [
    "#Scatterpot\n",
    "ggplot(titanic, aes(Age,Fare)) +geom_point()"
   ]
  },
  {
   "cell_type": "code",
   "execution_count": null,
   "metadata": {},
   "outputs": [],
   "source": [
    "#Smoothed average\n",
    "ggplot(titanic, aes(Age,Fare)) +geom_smooth()"
   ]
  },
  {
   "cell_type": "code",
   "execution_count": null,
   "metadata": {},
   "outputs": [],
   "source": [
    "#Combined scatter with smoothed average\n",
    "ggplot(titanic, aes(Age,Fare)) +\n",
    "  geom_point() +\n",
    "  geom_smooth(se = FALSE)"
   ]
  },
  {
   "cell_type": "code",
   "execution_count": null,
   "metadata": {},
   "outputs": [],
   "source": [
    "##Violin Graphs\n",
    "ggplot(titanic, aes(Pclass,Age)) +\n",
    "  geom_violin()"
   ]
  },
  {
   "cell_type": "markdown",
   "metadata": {},
   "source": [
    "### Theme and layout (Stretched goal 2)"
   ]
  },
  {
   "cell_type": "code",
   "execution_count": null,
   "metadata": {},
   "outputs": [],
   "source": [
    "#Basic Plot\n",
    "ggplot(titanic, aes(x = Age, fill = Survived)) + \n",
    "  geom_histogram(binwidth = 5,color = \"white\")"
   ]
  },
  {
   "cell_type": "code",
   "execution_count": null,
   "metadata": {},
   "outputs": [],
   "source": [
    "#Flipping Axes\n",
    "#ONlY IF IT MAKES SENSE\n",
    "ggplot(titanic, aes(x = Age, fill = Survived)) +\n",
    "  geom_histogram(binwidth = 5,color = \"white\") +\n",
    "  coord_flip()"
   ]
  },
  {
   "cell_type": "code",
   "execution_count": null,
   "metadata": {
    "scrolled": false
   },
   "outputs": [],
   "source": [
    "#Add Title and Axis labels\n",
    "ggplot(titanic, aes(x = Age, fill = Survived)) +\n",
    "  geom_histogram(binwidth = 5,color = \"white\") +\n",
    "  labs(x = \"Age\",y = \"Passengers\", title = \"Passenger Survival Rate by age\")"
   ]
  },
  {
   "cell_type": "code",
   "execution_count": null,
   "metadata": {
    "scrolled": false
   },
   "outputs": [],
   "source": [
    "#Add a theme\n",
    "ggplot(titanic, aes(x = Age, fill = Survived)) +\n",
    "  geom_histogram(binwidth = 5,color = \"white\") +\n",
    "  labs(x = \"Age\",y = \"Passengers\", title = \"Passenger Survival Rate by age\") +\n",
    "  theme_minimal()"
   ]
  },
  {
   "cell_type": "code",
   "execution_count": null,
   "metadata": {},
   "outputs": [],
   "source": [
    "#Change Axis range to only view ages 10-60 without clipping\n",
    "#if you want to remove data use xlim() ylim() NOT RECOMMENDED!\n",
    "ggplot(titanic, aes(x = Age, fill = Survived)) +\n",
    "  geom_histogram(binwidth = 5,color = \"white\") +\n",
    "  labs(x = \"Age\",y = \"Passengers\", title = \"Passenger Survival Rate by age\") +\n",
    "  theme_classic() + \n",
    "  coord_cartesian(xlim = c(10,60))"
   ]
  },
  {
   "cell_type": "code",
   "execution_count": null,
   "metadata": {
    "scrolled": false
   },
   "outputs": [],
   "source": [
    "#Add color\n",
    "ggplot(titanic, aes(x = Age, fill = Survived)) +\n",
    "  geom_histogram(binwidth = 5,color = \"white\") +\n",
    "  labs(x = \"Age\",y = \"Passengers\", title = \"Passenger Survival Rate by age\") +\n",
    "  theme_minimal() + \n",
    "  coord_cartesian(xlim = c(10,60))+\n",
    "  scale_fill_brewer(palette = \"Dark2\")"
   ]
  },
  {
   "cell_type": "code",
   "execution_count": null,
   "metadata": {
    "scrolled": false
   },
   "outputs": [],
   "source": [
    "# more options for color\n",
    "display.brewer.all(colorblindFriendly = TRUE)"
   ]
  },
  {
   "cell_type": "code",
   "execution_count": null,
   "metadata": {},
   "outputs": [],
   "source": [
    "#Change colors of bars\n",
    "my_plot <- ggplot(titanic, aes(x = Age, fill = Survived)) +\n",
    "  geom_histogram(binwidth = 5,color = \"white\") +\n",
    "  labs(x = \"Age\",y = \"Passengers\", title = \"Passenger Survival Rate by age\") +\n",
    "  theme_classic() + \n",
    "  coord_cartesian(xlim = c(10,60)) +\n",
    "  scale_fill_manual(values = c(\"darkgray\", \"darkblue\"))"
   ]
  },
  {
   "cell_type": "code",
   "execution_count": null,
   "metadata": {},
   "outputs": [],
   "source": [
    "#Saving Plots\n",
    "#Saves last plot unless specified\n",
    "ggsave(\"Final_Plot.png\", width = 10, height =10)\n",
    "ggsave(\"Final_Plot.png\", plot = my_plot, width = 10, height =10)"
   ]
  },
  {
   "cell_type": "markdown",
   "metadata": {},
   "source": [
    "# Helpful resources\n",
    "* **[Data Visualization with ggplots Cheat Sheet](https://rstudio.com/wp-content/uploads/2016/11/ggplot2-cheatsheet-2.1.pdf)**\n",
    "* **[R for Data Science](https://r4ds.had.co.nz/)**\n",
    "* **[Geocomputation with R](https://geocompr.robinlovelace.net/)**\n",
    "* **[Intro to GIS and Spatial Analysis](https://mgimond.github.io/Spatial/index.html)**"
   ]
  },
  {
   "cell_type": "markdown",
   "metadata": {},
   "source": [
    "# $\\;\\;\\;\\;\\;\\;\\;\\;\\;\\;\\;\\;\\;\\;\\;\\;\\;\\;\\;\\;\\;\\;\\;\\;\\;\\;\\;\\;\\;\\;\\;\\;\\;$Questions ??\n",
    "\n",
    "#  $\\;\\;\\;\\;\\;\\;\\;\\;\\;\\;\\;\\;\\;\\;\\;\\;\\;\\;\\;\\;\\;\\;\\;\\;\\;\\;\\;\\;\\;\\;\\;\\;\\;\\;\\;\\;$[Survey](https://qfreeaccountssjc1.az1.qualtrics.com/jfe/form/SV_6uvE6uJSwMwV1Up)\n",
    "$\\;\\;\\;\\;\\;\\;\\;\\;\\;\\;\\;\\;\\;\\;\\;\\;\\;\\;\\;\\;\\;\\;\\;\\;\\;\\;\\;\\;\\;\\;\\;\\;\\;\\;\\;\\;\\;\\;\\;\\;\\;\\;\\;\\;\\;\\;\\;\\;\\;\\;\\;\\;\\;\\;\\;\\;\\;\\;$**Thank you for attending the workshop !!**\n",
    "\n",
    "\n",
    "$\\;\\;\\;\\;\\;\\;\\;\\;\\;\\;\\;\\;\\;\\;\\;\\;\\;\\;\\;\\;\\;\\;\\;\\;\\;\\;\\;\\;\\;\\;\\;\\;\\;\\;\\;\\;\\;\\;\\;\\;\\;\\;\\;\\;\\;\\;$**Your kind suggestions/feedbacks are more than welcome**"
   ]
  },
  {
   "cell_type": "code",
   "execution_count": null,
   "metadata": {},
   "outputs": [],
   "source": []
  }
 ],
 "metadata": {
  "kernelspec": {
   "display_name": "R",
   "language": "R",
   "name": "ir"
  },
  "language_info": {
   "codemirror_mode": "r",
   "file_extension": ".r",
   "mimetype": "text/x-r-source",
   "name": "R",
   "pygments_lexer": "r",
   "version": "3.6.1"
  }
 },
 "nbformat": 4,
 "nbformat_minor": 4
}
